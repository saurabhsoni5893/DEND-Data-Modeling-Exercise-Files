{
 "cells": [
  {
   "cell_type": "code",
   "execution_count": 1,
   "metadata": {},
   "outputs": [],
   "source": [
    "import psycopg2"
   ]
  },
  {
   "cell_type": "code",
   "execution_count": 2,
   "metadata": {},
   "outputs": [],
   "source": [
    "try:\n",
    "    conn = psycopg2.connect(\"host = 127.0.0.1 dbname = studentdb user = student password = student\")\n",
    "except psycopg2.Error as e:\n",
    "    print(\"Error: Could not make connection to the Postgres database\")\n",
    "    print(e)\n",
    "    \n",
    "try:\n",
    "    cur = conn.cursor()\n",
    "except psycopg2.Error as e:\n",
    "    print(\"Error: Could not get cursor to the database\")\n",
    "    print(e)\n",
    "\n",
    "conn.set_session(autocommit=True)\n"
   ]
  },
  {
   "cell_type": "code",
   "execution_count": 12,
   "metadata": {},
   "outputs": [],
   "source": [
    "try:\n",
    "    cur.execute(\"CREATE TABLE IF NOT EXISTS music_library (album_id int, \\\n",
    "                                                           album_name varchar, artist_name varchar, \\\n",
    "                                                         year int, songs text[]);\")\n",
    "except psycopg2.Error as e:\n",
    "    print(\"Error: Issue creating a table\")\n",
    "    print(e)"
   ]
  },
  {
   "cell_type": "code",
   "execution_count": 13,
   "metadata": {},
   "outputs": [
    {
     "name": "stdout",
     "output_type": "stream",
     "text": [
      "(1, 'Rubber Soul', 'The Beatles', 1965, ['Michelle', 'Think For Yourself', 'In My Life'])\n",
      "(2, 'Let it Be', 'The Beatles', 1970, ['Let it be', 'Across the universe'])\n"
     ]
    }
   ],
   "source": [
    "try:\n",
    "    cur.execute(\"INSERT INTO music_library (album_id, album_name, artist_name, year, songs) VALUES (%s, %s, %s, %s, %s)\",\n",
    "                 (1, \"Rubber Soul\", \"The Beatles\", 1965, [\"Michelle\", \"Think For Yourself\", \"In My Life\"]))\n",
    "except psycopg2.Error as e:\n",
    "    print(\"Error: Inserting Rows\")\n",
    "    print(e)\n",
    "    \n",
    "try:\n",
    "    cur.execute(\"INSERT INTO music_library (album_id, album_name, artist_name, year, songs) VALUES (%s, %s, %s, %s, %s)\",\n",
    "                 (2, \"Let it Be\", \"The Beatles\", 1970, [\"Let it be\", \"Across the universe\"]))\n",
    "except psycopg2.Error as e:\n",
    "    print(\"Error: Inserting Rows\")\n",
    "    print(e)\n",
    "    \n",
    "try:\n",
    "    cur.execute(\"SELECT * FROM music_library;\")\n",
    "except psycopg2.Error as e:\n",
    "    print(\"Error: select *\")\n",
    "    print(e)\n",
    "\n",
    "row = cur.fetchone()\n",
    "while row:\n",
    "    print(row)\n",
    "    row = cur.fetchone()"
   ]
  },
  {
   "cell_type": "code",
   "execution_count": 17,
   "metadata": {},
   "outputs": [],
   "source": [
    "try:\n",
    "    cur.execute(\"CREATE TABLE IF NOT EXISTS album_library (album_id int, \\\n",
    "                                                          album_name varchar, artist_id int, \\\n",
    "                                                          year int);\")\n",
    "except psycopg2.Error as e:\n",
    "    print(\"Error: Issue creating table\")\n",
    "    print(e)\n",
    "    \n",
    "try:\n",
    "    cur.execute(\"CREATE TABLE IF NOT EXISTS artist_library (artist_id int, artist_name varchar);\")\n",
    "except psycopg2.Error as e:\n",
    "    print(\"Error: Issue creating table\")\n",
    "    print(e)\n",
    "    \n",
    "try:\n",
    "    cur.execute(\"CREATE TABLE IF NOT EXISTS song_library (song_id int, album_id int, song_name varchar);\")\n",
    "except psycopg2.Error as e:\n",
    "    print(\"Error: Issue creating table\")\n",
    "    print(e)    "
   ]
  },
  {
   "cell_type": "code",
   "execution_count": 18,
   "metadata": {},
   "outputs": [],
   "source": [
    "try:\n",
    "    cur.execute(\"INSERT INTO album_library (album_id, album_name, artist_id, year) VALUES (%s, %s, %s, %s)\",\n",
    "                 (1, \"Rubber Soul\", \"1\", 1965))\n",
    "    cur.execute(\"INSERT INTO album_library (album_id, album_name, artist_id, year) VALUES (%s, %s, %s, %s)\",\n",
    "                 (2, \"Let it Be\", \"1\", 1970))  \n",
    "    cur.execute(\"INSERT INTO artist_library (artist_id, artist_name) VALUES (%s, %s)\",\n",
    "                 (1, \"The Beatles\"))\n",
    "    cur.execute(\"INSERT INTO song_library (song_id, album_id, song_name) VALUES (%s, %s, %s)\",\n",
    "                 (1, 1, \"Michelle\"))\n",
    "    cur.execute(\"INSERT INTO song_library (song_id, album_id, song_name) VALUES (%s, %s, %s)\",\n",
    "                 (2, 1, \"Think For Yourself\"))\n",
    "    cur.execute(\"INSERT INTO song_library (song_id, album_id, song_name) VALUES (%s, %s, %s)\",\n",
    "                 (3, 1, \"In My Life\"))\n",
    "    cur.execute(\"INSERT INTO song_library (song_id, album_id, song_name) VALUES (%s, %s, %s)\",\n",
    "                 (4, 2, \"Let it be\"))\n",
    "    cur.execute(\"INSERT INTO song_library (song_id, album_id, song_name) VALUES (%s, %s, %s)\",\n",
    "                 (5, 2, \"Across the universe\"))\n",
    "except psycopg2.Error as e:\n",
    "    print(\"Error: Inserting Rows\")\n",
    "    print(e)"
   ]
  },
  {
   "cell_type": "code",
   "execution_count": 22,
   "metadata": {},
   "outputs": [
    {
     "name": "stdout",
     "output_type": "stream",
     "text": [
      "Table: album_library\n",
      "\n",
      "(1, 'Rubber Soul', 1, 1965)\n",
      "(2, 'Let it Be', 1, 1970)\n",
      "\n",
      "Table: artist_library\n",
      "\n",
      "(1, 'The Beatles')\n",
      "\n",
      "Table: song_library\n",
      "\n",
      "(1, 1, 'Michelle')\n",
      "(2, 1, 'Think For Yourself')\n",
      "(3, 1, 'In My Life')\n",
      "(4, 2, 'Let it be')\n",
      "(5, 2, 'Across the universe')\n"
     ]
    }
   ],
   "source": [
    "print(\"Table: album_library\\n\")\n",
    "try:\n",
    "    cur.execute(\"SELECT * FROM album_library\")\n",
    "except psycopg2.Error as e:\n",
    "    print(\"Error: Issue select *\")\n",
    "    print(e)   \n",
    "    \n",
    "row = cur.fetchone()\n",
    "while row:\n",
    "    print(row)\n",
    "    row = cur.fetchone()\n",
    "\n",
    "print(\"\\nTable: artist_library\\n\")\n",
    "try:\n",
    "    cur.execute(\"SELECT * FROM artist_library\")\n",
    "except psycopg2.Error as e:\n",
    "    print(\"Error: Issue select *\")\n",
    "    print(e)   \n",
    "    \n",
    "row = cur.fetchone()\n",
    "while row:\n",
    "    print(row)\n",
    "    row = cur.fetchone()\n",
    "\n",
    "print(\"\\nTable: song_library\\n\")\n",
    "try:\n",
    "    cur.execute(\"SELECT * FROM song_library\")\n",
    "except psycopg2.Error as e:\n",
    "    print(\"Error: Issue select *\")\n",
    "    print(e)   \n",
    "    \n",
    "row = cur.fetchone()\n",
    "while row:\n",
    "    print(row)\n",
    "    row = cur.fetchone()"
   ]
  },
  {
   "cell_type": "code",
   "execution_count": 25,
   "metadata": {},
   "outputs": [
    {
     "name": "stdout",
     "output_type": "stream",
     "text": [
      "Join all normalized tables to get single table\n",
      "\n",
      "(1, 'Rubber Soul', 1, 1965, 1, 'The Beatles', 1, 1, 'Michelle')\n",
      "(1, 'Rubber Soul', 1, 1965, 1, 'The Beatles', 2, 1, 'Think For Yourself')\n",
      "(1, 'Rubber Soul', 1, 1965, 1, 'The Beatles', 3, 1, 'In My Life')\n",
      "(2, 'Let it Be', 1, 1970, 1, 'The Beatles', 4, 2, 'Let it be')\n",
      "(2, 'Let it Be', 1, 1970, 1, 'The Beatles', 5, 2, 'Across the universe')\n"
     ]
    }
   ],
   "source": [
    "print(\"Join all normalized tables to get single table\\n\")\n",
    "try:\n",
    "    cur.execute(\"SELECT * FROM (album_library JOIN artist_library on album_library.artist_id = artist_library.artist_id) \\\n",
    "                 JOIN song_library ON album_library.album_id = song_library.album_id;\")\n",
    "except psycopg2.Error as e:   \n",
    "    print(\"Error: Issue select: *\")\n",
    "    print(e)   \n",
    "    \n",
    "row = cur.fetchone()\n",
    "while row:\n",
    "    print(row)\n",
    "    row = cur.fetchone()"
   ]
  },
  {
   "cell_type": "code",
   "execution_count": 26,
   "metadata": {},
   "outputs": [],
   "source": [
    "try:\n",
    "    cur.execute(\"DROP TABLE album_library\")\n",
    "except psycopg2.Error as e:\n",
    "    print(\"Error: Dropping table\")\n",
    "    print(e)   \n",
    "    \n",
    "try:\n",
    "    cur.execute(\"DROP TABLE artist_library\")\n",
    "except psycopg2.Error as e:\n",
    "    print(\"Error: Dropping table\")\n",
    "    print(e)   \n",
    "    \n",
    "try:\n",
    "    cur.execute(\"DROP TABLE song_library\")\n",
    "except psycopg2.Error as e:\n",
    "    print(\"Error: Dropping table\")\n",
    "    print(e)   "
   ]
  },
  {
   "cell_type": "code",
   "execution_count": null,
   "metadata": {},
   "outputs": [],
   "source": [
    "cur.close()\n",
    "conn.close()"
   ]
  }
 ],
 "metadata": {
  "kernelspec": {
   "display_name": "Python 3",
   "language": "python",
   "name": "python3"
  },
  "language_info": {
   "codemirror_mode": {
    "name": "ipython",
    "version": 3
   },
   "file_extension": ".py",
   "mimetype": "text/x-python",
   "name": "python",
   "nbconvert_exporter": "python",
   "pygments_lexer": "ipython3",
   "version": "3.7.4"
  },
  "toc": {
   "base_numbering": 1,
   "nav_menu": {},
   "number_sections": true,
   "sideBar": true,
   "skip_h1_title": false,
   "title_cell": "Table of Contents",
   "title_sidebar": "Contents",
   "toc_cell": false,
   "toc_position": {},
   "toc_section_display": true,
   "toc_window_display": false
  },
  "varInspector": {
   "cols": {
    "lenName": 16,
    "lenType": 16,
    "lenVar": 40
   },
   "kernels_config": {
    "python": {
     "delete_cmd_postfix": "",
     "delete_cmd_prefix": "del ",
     "library": "var_list.py",
     "varRefreshCmd": "print(var_dic_list())"
    },
    "r": {
     "delete_cmd_postfix": ") ",
     "delete_cmd_prefix": "rm(",
     "library": "var_list.r",
     "varRefreshCmd": "cat(var_dic_list()) "
    }
   },
   "types_to_exclude": [
    "module",
    "function",
    "builtin_function_or_method",
    "instance",
    "_Feature"
   ],
   "window_display": false
  }
 },
 "nbformat": 4,
 "nbformat_minor": 2
}
