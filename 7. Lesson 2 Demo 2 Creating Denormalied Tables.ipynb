{
 "cells": [
  {
   "cell_type": "code",
   "execution_count": 1,
   "metadata": {},
   "outputs": [],
   "source": [
    "import psycopg2"
   ]
  },
  {
   "cell_type": "code",
   "execution_count": 2,
   "metadata": {},
   "outputs": [],
   "source": [
    "try: \n",
    "    conn = psycopg2.connect(\"host=127.0.0.1 dbname=studentdb user=student password=student\")\n",
    "except psycopg2.Error as e: \n",
    "    print(\"Error: Could not make connection to the Postgres database\")\n",
    "    print(e)\n",
    "try: \n",
    "    cur = conn.cursor()\n",
    "except psycopg2.Error as e: \n",
    "    print(\"Error: Could not get cursor to the Database\")\n",
    "    print(e)\n",
    "conn.set_session(autocommit=True)"
   ]
  },
  {
   "cell_type": "code",
   "execution_count": 3,
   "metadata": {},
   "outputs": [],
   "source": [
    "try:\n",
    "    cur.execute(\"CREATE TABLE IF NOT EXISTS album_library (album_id int, \\\n",
    "                                                          album_name varchar, artist_id int, \\\n",
    "                                                          year int);\")\n",
    "except psycopg2.Error as e:\n",
    "    print(\"Error: Issue creating table\")\n",
    "    print(e)\n",
    "    \n",
    "try:\n",
    "    cur.execute(\"CREATE TABLE IF NOT EXISTS artist_library (artist_id int, artist_name varchar);\")\n",
    "except psycopg2.Error as e:\n",
    "    print(\"Error: Issue creating table\")\n",
    "    print(e)\n",
    "    \n",
    "try:\n",
    "    cur.execute(\"CREATE TABLE IF NOT EXISTS song_library (song_id int, album_id int, song_name varchar);\")\n",
    "except psycopg2.Error as e:\n",
    "    print(\"Error: Issue creating table\")\n",
    "    print(e)  \n",
    "    \n",
    "try:\n",
    "    cur.execute(\"CREATE TABLE IF NOT EXISTS song_length (song_id int, song_length int);\")\n",
    "except psycopg2.Error as e:\n",
    "    print(\"Error: Issue creating table\")\n",
    "    print(e)"
   ]
  },
  {
   "cell_type": "code",
   "execution_count": 4,
   "metadata": {},
   "outputs": [],
   "source": [
    "try:\n",
    "    cur.execute(\"INSERT INTO album_library (album_id, album_name, artist_id, year) VALUES (%s, %s, %s, %s)\",\n",
    "                 (1, \"Rubber Soul\", \"1\", 1965))\n",
    "    cur.execute(\"INSERT INTO album_library (album_id, album_name, artist_id, year) VALUES (%s, %s, %s, %s)\",\n",
    "                 (2, \"Let it Be\", \"1\", 1970))  \n",
    "    cur.execute(\"INSERT INTO artist_library (artist_id, artist_name) VALUES (%s, %s)\",\n",
    "                 (1, \"The Beatles\"))\n",
    "    cur.execute(\"INSERT INTO song_library (song_id, album_id, song_name) VALUES (%s, %s, %s)\",\n",
    "                 (1, 1, \"Michelle\"))\n",
    "    cur.execute(\"INSERT INTO song_library (song_id, album_id, song_name) VALUES (%s, %s, %s)\",\n",
    "                 (2, 1, \"Think For Yourself\"))\n",
    "    cur.execute(\"INSERT INTO song_library (song_id, album_id, song_name) VALUES (%s, %s, %s)\",\n",
    "                 (3, 1, \"In My Life\"))\n",
    "    cur.execute(\"INSERT INTO song_library (song_id, album_id, song_name) VALUES (%s, %s, %s)\",\n",
    "                 (4, 2, \"Let it be\"))\n",
    "    cur.execute(\"INSERT INTO song_library (song_id, album_id, song_name) VALUES (%s, %s, %s)\",\n",
    "                 (5, 2, \"Across the universe\"))\n",
    "    cur.execute(\"INSERT INTO song_length (song_id, song_length) VALUES (%s, %s)\",\n",
    "                 (1, 163))\n",
    "    cur.execute(\"INSERT INTO song_length (song_id, song_length) VALUES (%s, %s)\",\n",
    "                 (2, 137))\n",
    "    cur.execute(\"INSERT INTO song_length (song_id, song_length) VALUES (%s, %s)\",\n",
    "                 (3, 145))\n",
    "    cur.execute(\"INSERT INTO song_length (song_id, song_length) VALUES (%s, %s)\",\n",
    "                 (4, 240))\n",
    "    cur.execute(\"INSERT INTO song_length (song_id, song_length) VALUES (%s, %s)\",\n",
    "                 (5, 227))\n",
    "    \n",
    "except psycopg2.Error as e:\n",
    "    print(\"Error: Inserting Rows\")\n",
    "    print(e)"
   ]
  },
  {
   "cell_type": "code",
   "execution_count": 5,
   "metadata": {},
   "outputs": [
    {
     "name": "stdout",
     "output_type": "stream",
     "text": [
      "Table: album_library\n",
      "\n",
      "(1, 'Rubber Soul', 1, 1965)\n",
      "(2, 'Let it Be', 1, 1970)\n",
      "\n",
      "Table: artist_library\n",
      "\n",
      "(1, 'The Beatles')\n",
      "\n",
      "Table: song_library\n",
      "\n",
      "(1, 1, 'Michelle')\n",
      "(2, 1, 'Think For Yourself')\n",
      "(3, 1, 'In My Life')\n",
      "(4, 2, 'Let it be')\n",
      "(5, 2, 'Across the universe')\n",
      "\n",
      "Table: song_length\n",
      "\n",
      "(1, 163)\n",
      "(2, 137)\n",
      "(3, 145)\n",
      "(4, 240)\n",
      "(5, 227)\n"
     ]
    }
   ],
   "source": [
    "print(\"Table: album_library\\n\")\n",
    "try:\n",
    "    cur.execute(\"SELECT * FROM album_library\")\n",
    "except psycopg2.Error as e:\n",
    "    print(\"Error: Issue select *\")\n",
    "    print(e)   \n",
    "    \n",
    "row = cur.fetchone()\n",
    "while row:\n",
    "    print(row)\n",
    "    row = cur.fetchone()\n",
    "\n",
    "print(\"\\nTable: artist_library\\n\")\n",
    "try:\n",
    "    cur.execute(\"SELECT * FROM artist_library\")\n",
    "except psycopg2.Error as e:\n",
    "    print(\"Error: Issue select *\")\n",
    "    print(e)   \n",
    "    \n",
    "row = cur.fetchone()\n",
    "while row:\n",
    "    print(row)\n",
    "    row = cur.fetchone()\n",
    "\n",
    "print(\"\\nTable: song_library\\n\")\n",
    "try:\n",
    "    cur.execute(\"SELECT * FROM song_library\")\n",
    "except psycopg2.Error as e:\n",
    "    print(\"Error: Issue select *\")\n",
    "    print(e)   \n",
    "    \n",
    "row = cur.fetchone()\n",
    "while row:\n",
    "    print(row)\n",
    "    row = cur.fetchone()\n",
    "    \n",
    "print(\"\\nTable: song_length\\n\")\n",
    "try:\n",
    "    cur.execute(\"SELECT * FROM song_length\")\n",
    "except psycopg2.Error as e:\n",
    "    print(\"Error: Issue select *\")\n",
    "    print(e)   \n",
    "    \n",
    "row = cur.fetchone()\n",
    "while row:\n",
    "    print(row)\n",
    "    row = cur.fetchone()    "
   ]
  },
  {
   "cell_type": "code",
   "execution_count": 12,
   "metadata": {},
   "outputs": [
    {
     "name": "stdout",
     "output_type": "stream",
     "text": [
      "\n",
      "Query to get all the data from all 4 tables\n",
      "\n",
      "(1, 'The Beatles', 1, 'Rubber Soul', 1965, 1, 'Michelle', 163)\n",
      "(1, 'The Beatles', 1, 'Rubber Soul', 1965, 2, 'Think For Yourself', 137)\n",
      "(1, 'The Beatles', 1, 'Rubber Soul', 1965, 3, 'In My Life', 145)\n",
      "(1, 'The Beatles', 2, 'Let it Be', 1970, 4, 'Let it be', 240)\n",
      "(1, 'The Beatles', 2, 'Let it Be', 1970, 5, 'Across the universe', 227)\n"
     ]
    }
   ],
   "source": [
    "print(\"\\nQuery to get all the data from all 4 tables\\n\")\n",
    "try:\n",
    "    cur.execute(\"SELECT artist_library.artist_id, artist_name, album_library.album_id, album_name, year, \\\n",
    "                        song_library.song_id, song_name, song_length \\\n",
    "                 FROM ((artist_library JOIN album_library ON artist_library.artist_id = album_library.artist_id) \\\n",
    "                        JOIN song_library ON album_library.album_id = song_library.album_id) \\\n",
    "                        JOIN song_length ON song_library.song_id = song_length.song_id;\")\n",
    "except psycopg2.Error as e:\n",
    "    print(\"Error: Issue select *\")\n",
    "    print(e)   \n",
    "    \n",
    "row = cur.fetchone()\n",
    "while row:\n",
    "    print(row)\n",
    "    row = cur.fetchone()  "
   ]
  },
  {
   "cell_type": "code",
   "execution_count": null,
   "metadata": {},
   "outputs": [],
   "source": [
    "# I want a list of all my songs\n",
    "# Query 1: select artist_name, album_name, year, song_name, song_length FROM <min number of tables>\n",
    "\n",
    "# I want to know the length of each album in seconds\n",
    "# Query 2: select album_name, SUM(song_length) FROM <min number of tables> GROUP BY album_name"
   ]
  },
  {
   "cell_type": "code",
   "execution_count": 15,
   "metadata": {},
   "outputs": [],
   "source": [
    "# I want a list of all my songs\n",
    "# Query 1: select artist_name, album_name, year, song_name, song_length FROM <min number of tables>\n",
    "\n",
    "# Create all tables\n",
    "try:\n",
    "    cur.execute(\"CREATE TABLE IF NOT EXISTS album_library1 (album_id int, \\\n",
    "                                                            album_name varchar, artist_name varchar, year int);\")\n",
    "except psycopg2.Error as e:\n",
    "    print(\"Error: Issue creating table\")\n",
    "    print(e)\n",
    "    \n",
    "try:\n",
    "    cur.execute(\"CREATE TABLE IF NOT EXISTS song_library1 (song_id int, \\\n",
    "                                                          album_id int, song_name varchar, song_length int);\")\n",
    "except psycopg2.Error as e:\n",
    "    print(\"Error: Issue creating table\")\n",
    "    print(e)\n",
    "    \n",
    "# Insert into all tables\n",
    "try:\n",
    "    cur.execute(\"INSERT INTO album_library1 (album_id, album_name, artist_name, year) VALUES (%s, %s, %s, %s)\",\n",
    "                 (1, \"Rubber Soul\", \"The Beatles\", 1965))\n",
    "    cur.execute(\"INSERT INTO album_library1 (album_id, album_name, artist_name, year) VALUES (%s, %s, %s, %s)\",\n",
    "                 (2, \"Let It Be\", \"The Beatles\", 1970))\n",
    "    cur.execute(\"INSERT INTO song_library1 (song_id, album_id, song_name, song_length) VALUES (%s, %s, %s, %s)\",\n",
    "                 (1, 1, \"Michelle\", 163))\n",
    "    cur.execute(\"INSERT INTO song_library1 (song_id, album_id, song_name, song_length) VALUES (%s, %s, %s, %s)\",\n",
    "                 (2, 1, \"Think For Yourself\", 137))\n",
    "    cur.execute(\"INSERT INTO song_library1 (song_id, album_id, song_name, song_length) VALUES (%s, %s, %s, %s)\",\n",
    "                 (3, 1, \"In my life\", 145))\n",
    "    cur.execute(\"INSERT INTO song_library1 (song_id, album_id, song_name, song_length) VALUES (%s, %s, %s, %s)\",\n",
    "                 (4, 2, \"Let It Be\", 240))\n",
    "    cur.execute(\"INSERT INTO song_library1 (song_id, album_id, song_name, song_length) VALUES (%s, %s, %s, %s)\",\n",
    "                 (5, 2, \"Across The Universe\", 227))\n",
    "except psycopg2.Error as e:\n",
    "    print(\"Error: Inserting data into table\")\n",
    "    print(e)    \n",
    "    "
   ]
  },
  {
   "cell_type": "code",
   "execution_count": 16,
   "metadata": {},
   "outputs": [
    {
     "name": "stdout",
     "output_type": "stream",
     "text": [
      "Table: album_library1\n",
      "\n",
      "(1, 'Rubber Soul', 'The Beatles', 1965)\n",
      "(2, 'Let It Be', 'The Beatles', 1970)\n",
      "\n",
      "Table: song_library1\n",
      "\n",
      "(1, 1, 'Michelle', 163)\n",
      "(2, 1, 'Think For Yourself', 137)\n",
      "(3, 1, 'In my life', 145)\n",
      "(4, 2, 'Let It Be', 240)\n",
      "(5, 2, 'Across The Universe', 227)\n"
     ]
    }
   ],
   "source": [
    "print(\"Table: album_library1\\n\")\n",
    "try:\n",
    "    cur.execute(\"SELECT * FROM album_library1\")\n",
    "except psycopg2.Error as e:\n",
    "    print(\"Error: Issue select *\")\n",
    "    print(e)   \n",
    "    \n",
    "row = cur.fetchone()\n",
    "while row:\n",
    "    print(row)\n",
    "    row = cur.fetchone()\n",
    "\n",
    "print(\"\\nTable: song_library1\\n\")\n",
    "try:\n",
    "    cur.execute(\"SELECT * FROM song_library1\")\n",
    "except psycopg2.Error as e:\n",
    "    print(\"Error: Issue select *\")\n",
    "    print(e)   \n",
    "    \n",
    "row = cur.fetchone()\n",
    "while row:\n",
    "    print(row)\n",
    "    row = cur.fetchone()"
   ]
  },
  {
   "cell_type": "code",
   "execution_count": 19,
   "metadata": {},
   "outputs": [
    {
     "name": "stdout",
     "output_type": "stream",
     "text": [
      "\n",
      "I want a list of all my songs\n",
      "# Query 1: select artist_name, album_name, year, song_name, song_length FROM <min number of tables>\n",
      "\n",
      "('The Beatles', 'Rubber Soul', 1965, 'Michelle', 163)\n",
      "('The Beatles', 'Rubber Soul', 1965, 'Think For Yourself', 137)\n",
      "('The Beatles', 'Rubber Soul', 1965, 'In my life', 145)\n",
      "('The Beatles', 'Let It Be', 1970, 'Let It Be', 240)\n",
      "('The Beatles', 'Let It Be', 1970, 'Across The Universe', 227)\n"
     ]
    }
   ],
   "source": [
    "print(\"\\nI want a list of all my songs\")\n",
    "print(\"# Query 1: select artist_name, album_name, year, song_name, song_length FROM <min number of tables>\\n\")\n",
    "\n",
    "try:\n",
    "    cur.execute(\"SELECT artist_name, album_name, year, song_name, song_length \\\n",
    "                 FROM album_library1 JOIN song_library1 ON album_library1.album_id = song_library1.album_id;\")\n",
    "except psycopg2.Error as e:\n",
    "    print(\"Error: Issue select *\")\n",
    "    print(e)   \n",
    "    \n",
    "row = cur.fetchone()\n",
    "while row:\n",
    "    print(row)\n",
    "    row = cur.fetchone()  "
   ]
  },
  {
   "cell_type": "code",
   "execution_count": 20,
   "metadata": {},
   "outputs": [],
   "source": [
    "# I want to know the length of each album in seconds\n",
    "# Query 2: select album_name, SUM(song_length) FROM <min number of tables> GROUP BY album_name\n",
    "\n",
    "try:\n",
    "    cur.execute(\"CREATE TABLE IF NOT EXISTS album_length (song_id int, \\\n",
    "                                                          album_name varchar, song_length int);\")\n",
    "except psycopg2.Error as e:\n",
    "    print(\"Error: Issue creating table\")\n",
    "    print(e)"
   ]
  },
  {
   "cell_type": "code",
   "execution_count": 21,
   "metadata": {},
   "outputs": [],
   "source": [
    "# Insert into all tables\n",
    "try:\n",
    "    cur.execute(\"INSERT INTO album_length (song_id, album_name, song_length) VALUES (%s, %s, %s)\",\n",
    "                 (1, \"Rubber Soul\", 163))\n",
    "    cur.execute(\"INSERT INTO album_length (song_id, album_name, song_length) VALUES (%s, %s, %s)\",\n",
    "                 (2, \"Rubber Soul\", 137))\n",
    "    cur.execute(\"INSERT INTO album_length (song_id, album_name, song_length) VALUES (%s, %s, %s)\",\n",
    "                 (3, \"Rubber Soul\", 145))\n",
    "    cur.execute(\"INSERT INTO album_length (song_id, album_name, song_length) VALUES (%s, %s, %s)\",\n",
    "                 (4, \"Let It Be\", 240))\n",
    "    cur.execute(\"INSERT INTO album_length (song_id, album_name, song_length) VALUES (%s, %s, %s)\",\n",
    "                 (5, \"Let It Be\", 227))\n",
    "except psycopg2.Error as e:\n",
    "    print(\"Error: Inserting data into table\")\n",
    "    print(e)  "
   ]
  },
  {
   "cell_type": "code",
   "execution_count": 22,
   "metadata": {},
   "outputs": [
    {
     "name": "stdout",
     "output_type": "stream",
     "text": [
      "\n",
      "I want to know the length of each album in seconds\n",
      "Query 2: select album_name, SUM(song_length) FROM <min number of tables> GROUP BY album_name\n",
      "\n",
      "('Rubber Soul', 445)\n",
      "('Let It Be', 467)\n"
     ]
    }
   ],
   "source": [
    "print(\"\\nI want to know the length of each album in seconds\")\n",
    "print(\"Query 2: select album_name, SUM(song_length) FROM <min number of tables> GROUP BY album_name\\n\")\n",
    "\n",
    "try:\n",
    "    cur.execute(\"SELECT album_name, SUM(song_length) FROM album_length GROUP BY album_name;\")\n",
    "except psycopg2.Error as e:\n",
    "    print(\"Error: Issue select *\")\n",
    "    print(e)   \n",
    "    \n",
    "row = cur.fetchone()\n",
    "while row:\n",
    "    print(row)\n",
    "    row = cur.fetchone()  "
   ]
  },
  {
   "cell_type": "code",
   "execution_count": null,
   "metadata": {},
   "outputs": [],
   "source": []
  }
 ],
 "metadata": {
  "kernelspec": {
   "display_name": "Python 3",
   "language": "python",
   "name": "python3"
  },
  "language_info": {
   "codemirror_mode": {
    "name": "ipython",
    "version": 3
   },
   "file_extension": ".py",
   "mimetype": "text/x-python",
   "name": "python",
   "nbconvert_exporter": "python",
   "pygments_lexer": "ipython3",
   "version": "3.7.4"
  },
  "toc": {
   "base_numbering": 1,
   "nav_menu": {},
   "number_sections": true,
   "sideBar": true,
   "skip_h1_title": false,
   "title_cell": "Table of Contents",
   "title_sidebar": "Contents",
   "toc_cell": false,
   "toc_position": {},
   "toc_section_display": true,
   "toc_window_display": false
  },
  "varInspector": {
   "cols": {
    "lenName": 16,
    "lenType": 16,
    "lenVar": 40
   },
   "kernels_config": {
    "python": {
     "delete_cmd_postfix": "",
     "delete_cmd_prefix": "del ",
     "library": "var_list.py",
     "varRefreshCmd": "print(var_dic_list())"
    },
    "r": {
     "delete_cmd_postfix": ") ",
     "delete_cmd_prefix": "rm(",
     "library": "var_list.r",
     "varRefreshCmd": "cat(var_dic_list()) "
    }
   },
   "types_to_exclude": [
    "module",
    "function",
    "builtin_function_or_method",
    "instance",
    "_Feature"
   ],
   "window_display": false
  }
 },
 "nbformat": 4,
 "nbformat_minor": 2
}
